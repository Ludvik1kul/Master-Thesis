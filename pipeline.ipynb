{
 "cells": [
  {
   "cell_type": "code",
   "execution_count": 15,
   "metadata": {},
   "outputs": [],
   "source": [
    "import matplotlib.pyplot as plt\n",
    "import torch\n",
    "from torchvision import datasets, transforms"
   ]
  },
  {
   "cell_type": "code",
   "execution_count": null,
   "id": "c1c42f9d",
   "metadata": {},
   "outputs": [
    {
     "name": "stdout",
     "output_type": "stream",
     "text": [
      "torch.Size([32, 1, 28, 28])\n",
      "torch.Size([32])\n"
     ]
    }
   ],
   "source": [
    "transform = transforms.Compose([transforms.ToTensor()])\n",
    "mnist_data = datasets.MNIST(root='./data', train=True, download=True, transform=transform)\n",
    "\n",
    "batch_size = 32\n",
    "#split train, val, test using train_test_split\n",
    "from sklearn.model_selection import train_test_split\n",
    "train_data, val_data = train_test_split(mnist_data, test_size= 0.3, random_state=42)\n",
    "val_data, test_data = train_test_split(val_data,test_size=0.5, random_state=42)\n",
    "\n",
    "train_loader_pytorch = torch.utils.data.DataLoader(train_data, batch_size=batch_size, shuffle=True)\n",
    "val_loader_pytorch = torch.utils.data.DataLoader(val_data,batch_size=batch_size, shuffle=True)\n",
    "test_loader_pytorch = torch.utils.data.DataLoader(test_data, batch_size=batch_size, shuffle=True)\n",
    "\n"
   ]
  },
  {
   "cell_type": "code",
   "execution_count": 30,
   "id": "2a76dfee",
   "metadata": {},
   "outputs": [],
   "source": [
    "# Baseline model with Convolutional model\n",
    "class ConvNet(torch.nn.Module):\n",
    "    def __init__(self):\n",
    "        super(ConvNet, self).__init__()\n",
    "        self.conv1 = torch.nn.Conv2d(1,32,3,1)\n",
    "        self.pool1 = torch.nn.MaxPool2d(2,2)\n",
    "        self.conv2 = torch.nn.Conv2d(32,64,3,1)\n",
    "        self.pool2 = torch.nn.MaxPool2d(2,2)\n",
    "        self.fc1 = torch.nn.Linear(1600,128)\n",
    "        self.fc2 = torch.nn.Linear(128,10)\n",
    "        self.relu = torch.nn.ReLU()\n",
    "    def forward(self,X):\n",
    "        X = self.conv1(X)\n",
    "        X = self.relu(X)\n",
    "        X = self.pool1(X)\n",
    "        X = self.conv2(X)\n",
    "        X = self.relu(X)\n",
    "        X = self.pool2(X)\n",
    "        X = torch.flatten(X,1)\n",
    "        X = self.fc1(X)\n",
    "        X = self.relu(X)\n",
    "        X = self.fc2(X)\n",
    "        return X\n"
   ]
  },
  {
   "cell_type": "code",
   "execution_count": null,
   "id": "070c1962",
   "metadata": {},
   "outputs": [],
   "source": [
    "from torch.optim.optimizer import Optimizer\n",
    "\n",
    "class StochasticArmijoSGD(Optimizer):\n",
    "    def __init__(self, params, lr=1.0, c=1e-4, tau=0.5, max_backtracks=10):\n",
    "        \"\"\"\n",
    "        Stochastic Armijo line search optimizer.\n",
    "\n",
    "        Args:\n",
    "            params: model parameters\n",
    "            lr: initial step size (alpha_0)\n",
    "            c: Armijo condition parameter (small, e.g. 1e-4)\n",
    "            tau: step size reduction factor (0 < tau < 1, e.g. 0.5)\n",
    "            max_backtracks: max number of backtracking steps\n",
    "        \"\"\"\n",
    "        defaults = dict(lr=lr, c=c, tau=tau, max_backtracks=max_backtracks)\n",
    "        super(StochasticArmijoSGD, self).__init__(params, defaults)\n",
    "\n",
    "    def step(self, closure):\n",
    "        if closure is None:\n",
    "            raise ValueError(\"StochasticArmijoSGD requires a closure that returns loss and computes grads.\")\n",
    "\n",
    "        # compute initial loss + grads\n",
    "        loss = closure(backward=True)\n",
    "        loss_value = loss.item()\n",
    "\n",
    "        grads = []\n",
    "        for group in self.param_groups:\n",
    "            for p in group['params']:\n",
    "                if p.grad is not None:\n",
    "                    grads.append(p.grad.detach().clone().view(-1))\n",
    "\n",
    "        if len(grads) == 0:\n",
    "            raise RuntimeError(\"No gradients found — check that your closure calls loss.backward() and model parameters require grad.\")\n",
    "        g = torch.cat(grads)\n",
    "        g_norm_sq = g.dot(g).item()\n",
    "\n",
    "        # store original params\n",
    "        orig_params = []\n",
    "        for group in self.param_groups:\n",
    "            orig_params.append([p.detach().clone() for p in group['params']])\n",
    "\n",
    "        # line search\n",
    "        for group, orig_group_params in zip(self.param_groups, orig_params):\n",
    "            lr = group['lr']\n",
    "            c = group['c']\n",
    "            tau = group['tau']\n",
    "            max_backtracks = group['max_backtracks']\n",
    "\n",
    "            step_size = lr\n",
    "            success = False\n",
    "\n",
    "            for _ in range(max_backtracks):\n",
    "                # trial update (safe to do without grad tracking)\n",
    "                with torch.no_grad():\n",
    "                    for p, orig_p in zip(group['params'], orig_group_params):\n",
    "                        if p.grad is None:\n",
    "                            continue\n",
    "                        p.data.copy_(orig_p - step_size * p.grad)\n",
    "\n",
    "                # re-evaluate loss (no backward)\n",
    "                new_loss = closure(backward=False)\n",
    "\n",
    "                if new_loss.item() <= loss_value - c * step_size * g_norm_sq:\n",
    "                    success = True\n",
    "                    break\n",
    "\n",
    "                step_size *= tau\n",
    "\n",
    "            if not success:\n",
    "                with torch.no_grad():\n",
    "                    for p, orig_p in zip(group['params'], orig_group_params):\n",
    "                        p.data.copy_(orig_p)\n",
    "\n",
    "        return loss"
   ]
  },
  {
   "cell_type": "code",
   "execution_count": 45,
   "id": "c6ddf30c",
   "metadata": {},
   "outputs": [
    {
     "name": "stderr",
     "output_type": "stream",
     "text": [
      "100%|██████████| 1313/1313 [01:17<00:00, 16.88it/s]\n"
     ]
    },
    {
     "name": "stdout",
     "output_type": "stream",
     "text": [
      "Epoch [1/20], Optimizer: Armijo, Val Loss: 2.3095, Val Accuracy: 0.0951\n"
     ]
    },
    {
     "name": "stderr",
     "output_type": "stream",
     "text": [
      "100%|██████████| 1313/1313 [00:22<00:00, 58.10it/s]\n"
     ]
    },
    {
     "name": "stdout",
     "output_type": "stream",
     "text": [
      "Epoch [1/20], Optimizer: Adam, Val Loss: 0.0660, Val Accuracy: 0.9800\n"
     ]
    },
    {
     "name": "stderr",
     "output_type": "stream",
     "text": [
      "100%|██████████| 1313/1313 [01:41<00:00, 12.95it/s]\n"
     ]
    },
    {
     "name": "stdout",
     "output_type": "stream",
     "text": [
      "Epoch [2/20], Optimizer: Armijo, Val Loss: 2.1211, Val Accuracy: 0.3279\n"
     ]
    },
    {
     "name": "stderr",
     "output_type": "stream",
     "text": [
      "100%|██████████| 1313/1313 [00:21<00:00, 61.00it/s]\n"
     ]
    },
    {
     "name": "stdout",
     "output_type": "stream",
     "text": [
      "Epoch [2/20], Optimizer: Adam, Val Loss: 0.0663, Val Accuracy: 0.9801\n"
     ]
    },
    {
     "name": "stderr",
     "output_type": "stream",
     "text": [
      "100%|██████████| 1313/1313 [00:28<00:00, 46.06it/s]\n"
     ]
    },
    {
     "name": "stdout",
     "output_type": "stream",
     "text": [
      "Epoch [3/20], Optimizer: Armijo, Val Loss: 2.3241, Val Accuracy: 0.0951\n"
     ]
    },
    {
     "name": "stderr",
     "output_type": "stream",
     "text": [
      "100%|██████████| 1313/1313 [00:21<00:00, 62.00it/s]\n"
     ]
    },
    {
     "name": "stdout",
     "output_type": "stream",
     "text": [
      "Epoch [3/20], Optimizer: Adam, Val Loss: 0.0622, Val Accuracy: 0.9811\n"
     ]
    },
    {
     "name": "stderr",
     "output_type": "stream",
     "text": [
      "100%|██████████| 1313/1313 [00:35<00:00, 37.39it/s]\n"
     ]
    },
    {
     "name": "stdout",
     "output_type": "stream",
     "text": [
      "Epoch [4/20], Optimizer: Armijo, Val Loss: 2.3079, Val Accuracy: 0.1058\n"
     ]
    },
    {
     "name": "stderr",
     "output_type": "stream",
     "text": [
      "100%|██████████| 1313/1313 [00:21<00:00, 60.02it/s]\n"
     ]
    },
    {
     "name": "stdout",
     "output_type": "stream",
     "text": [
      "Epoch [4/20], Optimizer: Adam, Val Loss: 0.0706, Val Accuracy: 0.9764\n"
     ]
    },
    {
     "name": "stderr",
     "output_type": "stream",
     "text": [
      "100%|██████████| 1313/1313 [00:29<00:00, 45.17it/s]\n"
     ]
    },
    {
     "name": "stdout",
     "output_type": "stream",
     "text": [
      "Epoch [5/20], Optimizer: Armijo, Val Loss: 2.3096, Val Accuracy: 0.1058\n"
     ]
    },
    {
     "name": "stderr",
     "output_type": "stream",
     "text": [
      "100%|██████████| 1313/1313 [00:23<00:00, 56.20it/s]\n"
     ]
    },
    {
     "name": "stdout",
     "output_type": "stream",
     "text": [
      "Epoch [5/20], Optimizer: Adam, Val Loss: 0.0723, Val Accuracy: 0.9779\n"
     ]
    },
    {
     "name": "stderr",
     "output_type": "stream",
     "text": [
      "100%|██████████| 1313/1313 [01:54<00:00, 11.47it/s]\n"
     ]
    },
    {
     "name": "stdout",
     "output_type": "stream",
     "text": [
      "Epoch [6/20], Optimizer: Armijo, Val Loss: 1.8612, Val Accuracy: 0.3147\n"
     ]
    },
    {
     "name": "stderr",
     "output_type": "stream",
     "text": [
      "100%|██████████| 1313/1313 [00:19<00:00, 65.97it/s]\n"
     ]
    },
    {
     "name": "stdout",
     "output_type": "stream",
     "text": [
      "Epoch [6/20], Optimizer: Adam, Val Loss: 0.0849, Val Accuracy: 0.9737\n"
     ]
    },
    {
     "name": "stderr",
     "output_type": "stream",
     "text": [
      "100%|██████████| 1313/1313 [01:16<00:00, 17.05it/s]\n"
     ]
    },
    {
     "name": "stdout",
     "output_type": "stream",
     "text": [
      "Epoch [7/20], Optimizer: Armijo, Val Loss: 2.3109, Val Accuracy: 0.1131\n"
     ]
    },
    {
     "name": "stderr",
     "output_type": "stream",
     "text": [
      "100%|██████████| 1313/1313 [00:20<00:00, 65.25it/s]\n"
     ]
    },
    {
     "name": "stdout",
     "output_type": "stream",
     "text": [
      "Epoch [7/20], Optimizer: Adam, Val Loss: 0.0753, Val Accuracy: 0.9766\n"
     ]
    },
    {
     "name": "stderr",
     "output_type": "stream",
     "text": [
      "100%|██████████| 1313/1313 [00:33<00:00, 39.61it/s]\n"
     ]
    },
    {
     "name": "stdout",
     "output_type": "stream",
     "text": [
      "Epoch [8/20], Optimizer: Armijo, Val Loss: 2.3086, Val Accuracy: 0.1007\n"
     ]
    },
    {
     "name": "stderr",
     "output_type": "stream",
     "text": [
      "100%|██████████| 1313/1313 [00:25<00:00, 52.22it/s]\n"
     ]
    },
    {
     "name": "stdout",
     "output_type": "stream",
     "text": [
      "Epoch [8/20], Optimizer: Adam, Val Loss: 0.0731, Val Accuracy: 0.9782\n"
     ]
    },
    {
     "name": "stderr",
     "output_type": "stream",
     "text": [
      "100%|██████████| 1313/1313 [00:49<00:00, 26.33it/s]\n"
     ]
    },
    {
     "name": "stdout",
     "output_type": "stream",
     "text": [
      "Epoch [9/20], Optimizer: Armijo, Val Loss: 0.7832, Val Accuracy: 0.7789\n"
     ]
    },
    {
     "name": "stderr",
     "output_type": "stream",
     "text": [
      "100%|██████████| 1313/1313 [00:23<00:00, 56.38it/s]\n"
     ]
    },
    {
     "name": "stdout",
     "output_type": "stream",
     "text": [
      "Epoch [9/20], Optimizer: Adam, Val Loss: 0.0628, Val Accuracy: 0.9813\n"
     ]
    },
    {
     "name": "stderr",
     "output_type": "stream",
     "text": [
      "100%|██████████| 1313/1313 [02:11<00:00,  9.99it/s]\n"
     ]
    },
    {
     "name": "stdout",
     "output_type": "stream",
     "text": [
      "Epoch [10/20], Optimizer: Armijo, Val Loss: 2.2201, Val Accuracy: 0.2009\n"
     ]
    },
    {
     "name": "stderr",
     "output_type": "stream",
     "text": [
      "100%|██████████| 1313/1313 [00:30<00:00, 42.83it/s]\n"
     ]
    },
    {
     "name": "stdout",
     "output_type": "stream",
     "text": [
      "Epoch [10/20], Optimizer: Adam, Val Loss: 0.0680, Val Accuracy: 0.9793\n"
     ]
    },
    {
     "name": "stderr",
     "output_type": "stream",
     "text": [
      "100%|██████████| 1313/1313 [00:46<00:00, 28.32it/s]\n"
     ]
    },
    {
     "name": "stdout",
     "output_type": "stream",
     "text": [
      "Epoch [11/20], Optimizer: Armijo, Val Loss: 2.3134, Val Accuracy: 0.1010\n"
     ]
    },
    {
     "name": "stderr",
     "output_type": "stream",
     "text": [
      "100%|██████████| 1313/1313 [00:32<00:00, 40.06it/s]\n"
     ]
    },
    {
     "name": "stdout",
     "output_type": "stream",
     "text": [
      "Epoch [11/20], Optimizer: Adam, Val Loss: 0.0790, Val Accuracy: 0.9757\n"
     ]
    },
    {
     "name": "stderr",
     "output_type": "stream",
     "text": [
      "100%|██████████| 1313/1313 [01:16<00:00, 17.24it/s]\n"
     ]
    },
    {
     "name": "stdout",
     "output_type": "stream",
     "text": [
      "Epoch [12/20], Optimizer: Armijo, Val Loss: 2.3086, Val Accuracy: 0.0951\n"
     ]
    },
    {
     "name": "stderr",
     "output_type": "stream",
     "text": [
      "100%|██████████| 1313/1313 [00:29<00:00, 44.34it/s]\n"
     ]
    },
    {
     "name": "stdout",
     "output_type": "stream",
     "text": [
      "Epoch [12/20], Optimizer: Adam, Val Loss: 0.0747, Val Accuracy: 0.9778\n"
     ]
    },
    {
     "name": "stderr",
     "output_type": "stream",
     "text": [
      "100%|██████████| 1313/1313 [00:43<00:00, 30.03it/s]\n"
     ]
    },
    {
     "name": "stdout",
     "output_type": "stream",
     "text": [
      "Epoch [13/20], Optimizer: Armijo, Val Loss: 2.3040, Val Accuracy: 0.1058\n"
     ]
    },
    {
     "name": "stderr",
     "output_type": "stream",
     "text": [
      "100%|██████████| 1313/1313 [00:31<00:00, 41.23it/s]\n"
     ]
    },
    {
     "name": "stdout",
     "output_type": "stream",
     "text": [
      "Epoch [13/20], Optimizer: Adam, Val Loss: 0.0624, Val Accuracy: 0.9818\n"
     ]
    },
    {
     "name": "stderr",
     "output_type": "stream",
     "text": [
      "100%|██████████| 1313/1313 [00:54<00:00, 24.05it/s]\n"
     ]
    },
    {
     "name": "stdout",
     "output_type": "stream",
     "text": [
      "Epoch [14/20], Optimizer: Armijo, Val Loss: 2.3086, Val Accuracy: 0.1058\n"
     ]
    },
    {
     "name": "stderr",
     "output_type": "stream",
     "text": [
      "100%|██████████| 1313/1313 [00:31<00:00, 41.23it/s]\n"
     ]
    },
    {
     "name": "stdout",
     "output_type": "stream",
     "text": [
      "Epoch [14/20], Optimizer: Adam, Val Loss: 0.0701, Val Accuracy: 0.9787\n"
     ]
    },
    {
     "name": "stderr",
     "output_type": "stream",
     "text": [
      "100%|██████████| 1313/1313 [01:18<00:00, 16.67it/s]\n"
     ]
    },
    {
     "name": "stdout",
     "output_type": "stream",
     "text": [
      "Epoch [15/20], Optimizer: Armijo, Val Loss: 2.3053, Val Accuracy: 0.1058\n"
     ]
    },
    {
     "name": "stderr",
     "output_type": "stream",
     "text": [
      "100%|██████████| 1313/1313 [00:32<00:00, 40.79it/s]\n"
     ]
    },
    {
     "name": "stdout",
     "output_type": "stream",
     "text": [
      "Epoch [15/20], Optimizer: Adam, Val Loss: 0.0700, Val Accuracy: 0.9793\n"
     ]
    },
    {
     "name": "stderr",
     "output_type": "stream",
     "text": [
      "100%|██████████| 1313/1313 [01:05<00:00, 19.92it/s]\n"
     ]
    },
    {
     "name": "stdout",
     "output_type": "stream",
     "text": [
      "Epoch [16/20], Optimizer: Armijo, Val Loss: 2.3100, Val Accuracy: 0.1006\n"
     ]
    },
    {
     "name": "stderr",
     "output_type": "stream",
     "text": [
      "100%|██████████| 1313/1313 [00:31<00:00, 41.39it/s]\n"
     ]
    },
    {
     "name": "stdout",
     "output_type": "stream",
     "text": [
      "Epoch [16/20], Optimizer: Adam, Val Loss: 0.0690, Val Accuracy: 0.9789\n"
     ]
    },
    {
     "name": "stderr",
     "output_type": "stream",
     "text": [
      "100%|██████████| 1313/1313 [01:04<00:00, 20.35it/s]\n"
     ]
    },
    {
     "name": "stdout",
     "output_type": "stream",
     "text": [
      "Epoch [17/20], Optimizer: Armijo, Val Loss: 2.3108, Val Accuracy: 0.1010\n"
     ]
    },
    {
     "name": "stderr",
     "output_type": "stream",
     "text": [
      "100%|██████████| 1313/1313 [00:30<00:00, 43.02it/s]\n"
     ]
    },
    {
     "name": "stdout",
     "output_type": "stream",
     "text": [
      "Epoch [17/20], Optimizer: Adam, Val Loss: 0.0672, Val Accuracy: 0.9803\n"
     ]
    },
    {
     "name": "stderr",
     "output_type": "stream",
     "text": [
      "100%|██████████| 1313/1313 [01:15<00:00, 17.37it/s]\n"
     ]
    },
    {
     "name": "stdout",
     "output_type": "stream",
     "text": [
      "Epoch [18/20], Optimizer: Armijo, Val Loss: 0.8134, Val Accuracy: 0.7444\n"
     ]
    },
    {
     "name": "stderr",
     "output_type": "stream",
     "text": [
      "100%|██████████| 1313/1313 [00:32<00:00, 40.14it/s]\n"
     ]
    },
    {
     "name": "stdout",
     "output_type": "stream",
     "text": [
      "Epoch [18/20], Optimizer: Adam, Val Loss: 0.0613, Val Accuracy: 0.9813\n"
     ]
    },
    {
     "name": "stderr",
     "output_type": "stream",
     "text": [
      "100%|██████████| 1313/1313 [01:54<00:00, 11.46it/s]\n"
     ]
    },
    {
     "name": "stdout",
     "output_type": "stream",
     "text": [
      "Epoch [19/20], Optimizer: Armijo, Val Loss: 2.3097, Val Accuracy: 0.1131\n"
     ]
    },
    {
     "name": "stderr",
     "output_type": "stream",
     "text": [
      "100%|██████████| 1313/1313 [00:31<00:00, 41.76it/s]\n"
     ]
    },
    {
     "name": "stdout",
     "output_type": "stream",
     "text": [
      "Epoch [19/20], Optimizer: Adam, Val Loss: 0.0568, Val Accuracy: 0.9831\n"
     ]
    },
    {
     "name": "stderr",
     "output_type": "stream",
     "text": [
      "100%|██████████| 1313/1313 [02:31<00:00,  8.64it/s]\n"
     ]
    },
    {
     "name": "stdout",
     "output_type": "stream",
     "text": [
      "Epoch [20/20], Optimizer: Armijo, Val Loss: 2.1144, Val Accuracy: 0.2328\n"
     ]
    },
    {
     "name": "stderr",
     "output_type": "stream",
     "text": [
      "100%|██████████| 1313/1313 [00:30<00:00, 42.83it/s]\n"
     ]
    },
    {
     "name": "stdout",
     "output_type": "stream",
     "text": [
      "Epoch [20/20], Optimizer: Adam, Val Loss: 0.0729, Val Accuracy: 0.9780\n"
     ]
    }
   ],
   "source": [
    "# Training loop\n",
    "import tqdm\n",
    "criterion = torch.nn.CrossEntropyLoss()\n",
    "\n",
    "num_epochs = 20  \n",
    "device = torch.device(\"cuda\" if torch.cuda.is_available() else \"cpu\")\n",
    "for epoch in range(num_epochs):\n",
    "    for optimizer_name in [\"Armijo\", \"Adam\"]:\n",
    "        #reset model weights\n",
    "        model = ConvNet()\n",
    "\n",
    "        if optimizer_name == \"Adam\":\n",
    "            optimizer = torch.optim.Adam(model.parameters(), lr=0.001)\n",
    "        else:\n",
    "            optimizer = StochasticArmijoSGD(model.parameters(), lr=1.0, c=1e-4, tau=0.5, max_backtracks=10)\n",
    "\n",
    "        for images, labels in tqdm.tqdm(train_loader_pytorch):\n",
    "            images, labels = images.to(device), labels.to(device)\n",
    "            if optimizer_name == \"Adam\":\n",
    "                optimizer.zero_grad()\n",
    "                outputs = model(images)\n",
    "                loss = criterion(outputs, labels)\n",
    "                loss.backward()\n",
    "                optimizer.step()\n",
    "            else:  # armijo\n",
    "                def closure(backward=True):\n",
    "                    optimizer.zero_grad()\n",
    "                    outputs = model(images)\n",
    "                    loss = criterion(outputs, labels)\n",
    "                    if backward:\n",
    "                        loss.backward()\n",
    "                    return loss\n",
    "                optimizer.step(closure)\n",
    "        # validation\n",
    "        model.eval()\n",
    "        val_loss = 0\n",
    "        correct =0 \n",
    "        total= 0\n",
    "        with torch.no_grad():\n",
    "            for images, labels in val_loader_pytorch:\n",
    "                outputs = model(images)\n",
    "                loss = criterion(outputs,labels)\n",
    "                val_loss += loss.item()\n",
    "                _, predicted = torch.max(outputs.data,1)\n",
    "                total += labels.size(0)\n",
    "                correct += (predicted == labels).sum().item()\n",
    "            val_loss = val_loss / len(val_loader_pytorch)\n",
    "            val_accuracy = correct / total\n",
    "        print(f'Epoch [{epoch+1}/{num_epochs}], Optimizer: {optimizer_name}, Val Loss: {val_loss:.4f}, Val Accuracy: {val_accuracy:.4f}')\n",
    "\n"
   ]
  }
 ],
 "metadata": {
  "kernelspec": {
   "display_name": "master.venv (3.12.10)",
   "language": "python",
   "name": "python3"
  },
  "language_info": {
   "codemirror_mode": {
    "name": "ipython",
    "version": 3
   },
   "file_extension": ".py",
   "mimetype": "text/x-python",
   "name": "python",
   "nbconvert_exporter": "python",
   "pygments_lexer": "ipython3",
   "version": "3.12.10"
  }
 },
 "nbformat": 4,
 "nbformat_minor": 5
}
