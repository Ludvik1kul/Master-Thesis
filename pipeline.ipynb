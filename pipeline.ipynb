{
 "cells": [
  {
   "cell_type": "code",
   "execution_count": 46,
   "metadata": {},
   "outputs": [],
   "source": [
    "import matplotlib.pyplot as plt\n",
    "import torch\n",
    "from torchvision import datasets, transforms"
   ]
  },
  {
   "cell_type": "code",
   "execution_count": 47,
   "id": "c1c42f9d",
   "metadata": {},
   "outputs": [],
   "source": [
    "transform = transforms.Compose([transforms.ToTensor()])\n",
    "mnist_data = datasets.MNIST(root='./data', train=True, download=True, transform=transform)\n",
    "\n",
    "batch_size = 32\n",
    "#split train, val, test using train_test_split\n",
    "from sklearn.model_selection import train_test_split\n",
    "train_data, val_data = train_test_split(mnist_data, test_size= 0.3, random_state=42)\n",
    "val_data, test_data = train_test_split(val_data,test_size=0.5, random_state=42)\n",
    "\n",
    "train_loader_pytorch = torch.utils.data.DataLoader(train_data, batch_size=batch_size, shuffle=True)\n",
    "val_loader_pytorch = torch.utils.data.DataLoader(val_data,batch_size=batch_size, shuffle=True)\n",
    "test_loader_pytorch = torch.utils.data.DataLoader(test_data, batch_size=batch_size, shuffle=True)\n",
    "\n"
   ]
  },
  {
   "cell_type": "code",
   "execution_count": 48,
   "id": "2a76dfee",
   "metadata": {},
   "outputs": [],
   "source": [
    "# Baseline model with Convolutional model\n",
    "class ConvNet(torch.nn.Module):\n",
    "    def __init__(self):\n",
    "        super(ConvNet, self).__init__()\n",
    "        self.conv1 = torch.nn.Conv2d(1,32,3,1)\n",
    "        self.pool1 = torch.nn.MaxPool2d(2,2)\n",
    "        self.conv2 = torch.nn.Conv2d(32,64,3,1)\n",
    "        self.pool2 = torch.nn.MaxPool2d(2,2)\n",
    "        self.fc1 = torch.nn.Linear(1600,128)\n",
    "        self.fc2 = torch.nn.Linear(128,10)\n",
    "        self.relu = torch.nn.ReLU()\n",
    "    def forward(self,X):\n",
    "        X = self.conv1(X)\n",
    "        X = self.relu(X)\n",
    "        X = self.pool1(X)\n",
    "        X = self.conv2(X)\n",
    "        X = self.relu(X)\n",
    "        X = self.pool2(X)\n",
    "        X = torch.flatten(X,1)\n",
    "        X = self.fc1(X)\n",
    "        X = self.relu(X)\n",
    "        X = self.fc2(X)\n",
    "        return X\n"
   ]
  },
  {
   "cell_type": "code",
   "execution_count": null,
   "id": "c6ddf30c",
   "metadata": {},
   "outputs": [
    {
     "name": "stderr",
     "output_type": "stream",
     "text": [
      "  0%|          | 0/1313 [00:00<?, ?it/s]"
     ]
    },
    {
     "name": "stderr",
     "output_type": "stream",
     "text": [
      "100%|██████████| 1313/1313 [00:44<00:00, 29.77it/s]\n"
     ]
    },
    {
     "name": "stdout",
     "output_type": "stream",
     "text": [
      "Epoch [1/20], Optimizer: Armijo, Val Loss: 2.3052, Val Accuracy: 0.1131\n"
     ]
    },
    {
     "name": "stderr",
     "output_type": "stream",
     "text": [
      "100%|██████████| 1313/1313 [00:33<00:00, 39.52it/s]\n"
     ]
    },
    {
     "name": "stdout",
     "output_type": "stream",
     "text": [
      "Epoch [1/20], Optimizer: Adam, Val Loss: 0.0848, Val Accuracy: 0.9749\n"
     ]
    },
    {
     "name": "stderr",
     "output_type": "stream",
     "text": [
      "100%|██████████| 1313/1313 [00:36<00:00, 36.00it/s]\n"
     ]
    },
    {
     "name": "stdout",
     "output_type": "stream",
     "text": [
      "Epoch [2/20], Optimizer: Armijo, Val Loss: 2.3076, Val Accuracy: 0.1131\n"
     ]
    },
    {
     "name": "stderr",
     "output_type": "stream",
     "text": [
      "100%|██████████| 1313/1313 [00:26<00:00, 49.99it/s]\n"
     ]
    },
    {
     "name": "stdout",
     "output_type": "stream",
     "text": [
      "Epoch [2/20], Optimizer: Adam, Val Loss: 0.0605, Val Accuracy: 0.9816\n"
     ]
    },
    {
     "name": "stderr",
     "output_type": "stream",
     "text": [
      "100%|██████████| 1313/1313 [00:31<00:00, 41.84it/s]\n"
     ]
    },
    {
     "name": "stdout",
     "output_type": "stream",
     "text": [
      "Epoch [3/20], Optimizer: Armijo, Val Loss: 2.3069, Val Accuracy: 0.1007\n"
     ]
    },
    {
     "name": "stderr",
     "output_type": "stream",
     "text": [
      "100%|██████████| 1313/1313 [00:25<00:00, 51.22it/s]\n"
     ]
    },
    {
     "name": "stdout",
     "output_type": "stream",
     "text": [
      "Epoch [3/20], Optimizer: Adam, Val Loss: 0.0817, Val Accuracy: 0.9731\n"
     ]
    },
    {
     "name": "stderr",
     "output_type": "stream",
     "text": [
      " 78%|███████▊  | 1026/1313 [00:26<00:07, 36.97it/s]"
     ]
    }
   ],
   "source": [
    "# Training loop\n",
    "import tqdm\n",
    "criterion = torch.nn.CrossEntropyLoss()\n",
    "from optimizers import StochasticArmijoSGD\n",
    "\n",
    "num_epochs = 20  \n",
    "device = torch.device(\"cuda\" if torch.cuda.is_available() else \"cpu\")\n",
    "for epoch in range(num_epochs):\n",
    "    for optimizer_name in [\"Armijo\", \"Adam\"]:\n",
    "        #reset model weights\n",
    "        model = ConvNet()\n",
    "\n",
    "        if optimizer_name == \"Adam\":\n",
    "            optimizer = torch.optim.Adam(model.parameters(), lr=0.001)\n",
    "        else:\n",
    "            optimizer = StochasticArmijoSGD(model.parameters(), initial_step=1.0, c=0.001, tau=0.5, max_backtracks=10)\n",
    "\n",
    "        for images, labels in tqdm.tqdm(train_loader_pytorch):\n",
    "            images, labels = images.to(device), labels.to(device)\n",
    "            if optimizer_name == \"Adam\":\n",
    "                optimizer.zero_grad()\n",
    "                outputs = model(images)\n",
    "                loss = criterion(outputs, labels)\n",
    "                loss.backward()\n",
    "                optimizer.step()\n",
    "            else:  # armijo\n",
    "                def closure(backward=True):\n",
    "                    optimizer.zero_grad()\n",
    "                    outputs = model(images)\n",
    "                    loss = criterion(outputs, labels)\n",
    "                    if backward:\n",
    "                        loss.backward()\n",
    "                    return loss\n",
    "                optimizer.step(closure)\n",
    "        # validation\n",
    "        model.eval()\n",
    "        val_loss = 0\n",
    "        correct =0 \n",
    "        total= 0\n",
    "        with torch.no_grad():\n",
    "            for images, labels in val_loader_pytorch:\n",
    "                outputs = model(images)\n",
    "                loss = criterion(outputs,labels)\n",
    "                val_loss += loss.item()\n",
    "                _, predicted = torch.max(outputs.data,1)\n",
    "                total += labels.size(0)\n",
    "                correct += (predicted == labels).sum().item()\n",
    "            val_loss = val_loss / len(val_loader_pytorch)\n",
    "            val_accuracy = correct / total\n",
    "        print(f'Epoch [{epoch+1}/{num_epochs}], Optimizer: {optimizer_name}, Val Loss: {val_loss:.4f}, Val Accuracy: {val_accuracy:.4f}')\n",
    "\n"
   ]
  }
 ],
 "metadata": {
  "kernelspec": {
   "display_name": "master.venv (3.12.10)",
   "language": "python",
   "name": "python3"
  },
  "language_info": {
   "codemirror_mode": {
    "name": "ipython",
    "version": 3
   },
   "file_extension": ".py",
   "mimetype": "text/x-python",
   "name": "python",
   "nbconvert_exporter": "python",
   "pygments_lexer": "ipython3",
   "version": "3.12.10"
  }
 },
 "nbformat": 4,
 "nbformat_minor": 5
}
